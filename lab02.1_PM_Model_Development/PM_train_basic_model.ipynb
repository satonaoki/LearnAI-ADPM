{
  "cells": [
    {
      "metadata": {},
      "cell_type": "markdown",
      "source": "Copyright (c) Microsoft Corporation. All rights reserved.\n\nLicensed under the MIT License."
    },
    {
      "metadata": {},
      "cell_type": "markdown",
      "source": "# Building a basic predictive maintenance model"
    },
    {
      "metadata": {},
      "cell_type": "markdown",
      "source": "Simply put, **predictive maintenance (PdM)** is about pre-emptively finding and fixing flaws in a system (as long as it collects data over time, using sensors for example) in order to reduce downtime. Given a failure in some component or part of the system, we are asking how likely it is that this would result in system failure and downtime soon after. "
    },
    {
      "metadata": {},
      "cell_type": "markdown",
      "source": "## Loading and examining the data"
    },
    {
      "metadata": {
        "trusted": true
      },
      "cell_type": "code",
      "source": "import os # standard lib for OS operations\n\nimport urllib.request # for downloading data\n\n# plotting libs\nimport matplotlib.pyplot as plt\nimport seaborn as sns\nsns.set(rc={'figure.figsize':(15,8)}) # set figure size\n\n# ML classifiers and the like\nfrom sklearn.pipeline import Pipeline\nfrom sklearn.preprocessing import StandardScaler\nfrom sklearn.neural_network import MLPClassifier\nfrom sklearn import svm\n\n# metrics for evaluating results\nfrom sklearn.metrics import classification_report\nfrom sklearn.metrics import confusion_matrix\nfrom sklearn.metrics import roc_auc_score",
      "execution_count": 1,
      "outputs": []
    },
    {
      "metadata": {
        "trusted": true
      },
      "cell_type": "code",
      "source": "os.makedirs('../data', exist_ok = True)\ncontainer = 'https://sethmottstore.blob.core.windows.net/predmaint/'\nurllib.request.urlretrieve(container + 'telemetry.csv', filename='../data/telemetry.csv')\nurllib.request.urlretrieve(container + 'maintenance.csv', filename='../data/maintenance.csv')\nurllib.request.urlretrieve(container + 'machines.csv', filename='../data/machines.csv')\nurllib.request.urlretrieve(container + 'failures.csv', filename='../data/failures.csv')\n# we replace errors.csv with anoms.csv (results from running anomaly detection)\n# urllib.request.urlretrieve(container + 'errors.csv', filename='../data/errors.csv')\nurllib.request.urlretrieve(container + 'anoms.csv', filename='../data/anoms.csv')",
      "execution_count": 2,
      "outputs": [
        {
          "output_type": "execute_result",
          "execution_count": 2,
          "data": {
            "text/plain": "('../data/anoms.csv', <http.client.HTTPMessage at 0x7fec079f72e8>)"
          },
          "metadata": {}
        }
      ]
    },
    {
      "metadata": {},
      "cell_type": "markdown",
      "source": "The relevant data sources for predictive maintenance include, but are not limited to:\n  - **Machine operating conditions:** data of the equipment health over time (usually sensor-based and streaming). We will refer to this data as machine *telemetry data*.\n  - **Error history:** this data contains logs of *non-breaking* errors that happen thoughout a machine's operation and which parts of the machine they came from\n  - **Failure history:** this data contains logs of severe errors that broke the machine down (requiring maintenance to operate again) and parts of the machine that caused it\n  - **Maintenance/repair history:** what parts were fixed/replaced (as part of scheduled maintenance or due to failure) and when\n  - **Equipment metadata:** anything we know about equipment and parts (such as make, model, etc.)"
    },
    {
      "metadata": {},
      "cell_type": "markdown",
      "source": "### Quiz"
    },
    {
      "metadata": {},
      "cell_type": "markdown",
      "source": "<div class=\"alert alert-info\">\nPick two of the use cases [mentioned earlier](#usecases), and provide examples of the four kinds of data needed to perform PdM for those use cases.\n</div>"
    },
    {
      "metadata": {
        "trusted": false
      },
      "cell_type": "code",
      "source": "# write solution here",
      "execution_count": null,
      "outputs": []
    },
    {
      "metadata": {},
      "cell_type": "markdown",
      "source": "From now on we will adopt to following consistent terminology to avoid confusion:\n\n- A system as a whole will be called a **machine** and its parts are called **components**\n- A machine can experience **errors** when anomalies happen. Errors do NOT result in shutdown, and they are NOT tied to any particular components, but they can cause one or several component to *eventually* fail.\n- A machine can experience **failure** when one of its components shuts down. This requires the component to be replaced before the machine can be operational again.\n- For our purposes, **maintenance** means a component was replaced. This can be either as part of a routine schedule or because the component failed (prior to its scheduled maintenance)."
    },
    {
      "metadata": {},
      "cell_type": "markdown",
      "source": "Let's now begin loading all the data and looking at the kind of information it contains. We begin with the telemetry data."
    },
    {
      "metadata": {
        "trusted": true
      },
      "cell_type": "code",
      "source": "import pandas as pd\n\ndf_telemetry = pd.read_csv('../data/telemetry.csv', header=0)\ndf_telemetry['datetime'] = pd.to_datetime(df_telemetry['datetime'], format=\"%m/%d/%Y %I:%M:%S %p\")\ndf_telemetry.head()",
      "execution_count": 3,
      "outputs": [
        {
          "output_type": "execute_result",
          "execution_count": 3,
          "data": {
            "text/html": "<div>\n<style scoped>\n    .dataframe tbody tr th:only-of-type {\n        vertical-align: middle;\n    }\n\n    .dataframe tbody tr th {\n        vertical-align: top;\n    }\n\n    .dataframe thead th {\n        text-align: right;\n    }\n</style>\n<table border=\"1\" class=\"dataframe\">\n  <thead>\n    <tr style=\"text-align: right;\">\n      <th></th>\n      <th>datetime</th>\n      <th>machineID</th>\n      <th>volt</th>\n      <th>rotate</th>\n      <th>pressure</th>\n      <th>vibration</th>\n    </tr>\n  </thead>\n  <tbody>\n    <tr>\n      <th>0</th>\n      <td>2015-01-01 06:00:00</td>\n      <td>1</td>\n      <td>176.217853</td>\n      <td>418.504078</td>\n      <td>113.077935</td>\n      <td>45.087686</td>\n    </tr>\n    <tr>\n      <th>1</th>\n      <td>2015-01-01 07:00:00</td>\n      <td>1</td>\n      <td>162.879223</td>\n      <td>402.747490</td>\n      <td>95.460525</td>\n      <td>43.413973</td>\n    </tr>\n    <tr>\n      <th>2</th>\n      <td>2015-01-01 08:00:00</td>\n      <td>1</td>\n      <td>170.989902</td>\n      <td>527.349825</td>\n      <td>75.237905</td>\n      <td>34.178847</td>\n    </tr>\n    <tr>\n      <th>3</th>\n      <td>2015-01-01 09:00:00</td>\n      <td>1</td>\n      <td>162.462833</td>\n      <td>346.149335</td>\n      <td>109.248561</td>\n      <td>41.122144</td>\n    </tr>\n    <tr>\n      <th>4</th>\n      <td>2015-01-01 10:00:00</td>\n      <td>1</td>\n      <td>157.610021</td>\n      <td>435.376873</td>\n      <td>111.886648</td>\n      <td>25.990511</td>\n    </tr>\n  </tbody>\n</table>\n</div>",
            "text/plain": "             datetime  machineID        volt      rotate    pressure  \\\n0 2015-01-01 06:00:00          1  176.217853  418.504078  113.077935   \n1 2015-01-01 07:00:00          1  162.879223  402.747490   95.460525   \n2 2015-01-01 08:00:00          1  170.989902  527.349825   75.237905   \n3 2015-01-01 09:00:00          1  162.462833  346.149335  109.248561   \n4 2015-01-01 10:00:00          1  157.610021  435.376873  111.886648   \n\n   vibration  \n0  45.087686  \n1  43.413973  \n2  34.178847  \n3  41.122144  \n4  25.990511  "
          },
          "metadata": {}
        }
      ]
    },
    {
      "metadata": {},
      "cell_type": "markdown",
      "source": "Here's an example of the voltage for one machine over time."
    },
    {
      "metadata": {
        "trusted": true
      },
      "cell_type": "code",
      "source": "sns.set(rc={'figure.figsize':(15,8)}) # set figure size\nax = sns.lineplot(x=\"datetime\", y=\"volt\", data=df_telemetry.loc[df_telemetry['machineID'] == 1, ])",
      "execution_count": 4,
      "outputs": [
        {
          "output_type": "display_data",
          "data": {
            "image/png": "[encoded data removed]",
            "text/plain": "<Figure size 1080x576 with 1 Axes>"
          },
          "metadata": {}
        }
      ]
    },
    {
      "metadata": {},
      "cell_type": "markdown",
      "source": "Next we have the error logs, which contains information about **non-breaking** errors that happened over the course of the machine running."
    },
    {
      "metadata": {
        "trusted": true
      },
      "cell_type": "code",
      "source": "df_errors = pd.read_csv('../data/anoms.csv', header=0)\ndf_errors['datetime'] = pd.to_datetime(df_errors['datetime'])\n\nrep_dir = {\"volt\":\"error1\", \"rotate\":\"error2\", \"pressure\":\"error3\", \"vibration\":\"error4\"}\ndf_errors = df_errors.replace({\"errorID\": rep_dir})\n\ndf_errors.head()",
      "execution_count": 5,
      "outputs": [
        {
          "output_type": "execute_result",
          "execution_count": 5,
          "data": {
            "text/html": "<div>\n<style scoped>\n    .dataframe tbody tr th:only-of-type {\n        vertical-align: middle;\n    }\n\n    .dataframe tbody tr th {\n        vertical-align: top;\n    }\n\n    .dataframe thead th {\n        text-align: right;\n    }\n</style>\n<table border=\"1\" class=\"dataframe\">\n  <thead>\n    <tr style=\"text-align: right;\">\n      <th></th>\n      <th>datetime</th>\n      <th>machineID</th>\n      <th>errorID</th>\n    </tr>\n  </thead>\n  <tbody>\n    <tr>\n      <th>0</th>\n      <td>2015-01-16 21:00:00</td>\n      <td>1</td>\n      <td>error1</td>\n    </tr>\n    <tr>\n      <th>1</th>\n      <td>2015-01-16 22:00:00</td>\n      <td>1</td>\n      <td>error1</td>\n    </tr>\n    <tr>\n      <th>2</th>\n      <td>2015-01-16 23:00:00</td>\n      <td>1</td>\n      <td>error1</td>\n    </tr>\n    <tr>\n      <th>3</th>\n      <td>2015-01-17 00:00:00</td>\n      <td>1</td>\n      <td>error1</td>\n    </tr>\n    <tr>\n      <th>4</th>\n      <td>2015-01-17 01:00:00</td>\n      <td>1</td>\n      <td>error1</td>\n    </tr>\n  </tbody>\n</table>\n</div>",
            "text/plain": "             datetime  machineID errorID\n0 2015-01-16 21:00:00          1  error1\n1 2015-01-16 22:00:00          1  error1\n2 2015-01-16 23:00:00          1  error1\n3 2015-01-17 00:00:00          1  error1\n4 2015-01-17 01:00:00          1  error1"
          },
          "metadata": {}
        }
      ]
    },
    {
      "metadata": {},
      "cell_type": "markdown",
      "source": "We used **anomaly detection** to find errors in the above dataset. There are four kinds of errors, one for each of the telemetry variables we collect, namely voltage, rotation, pressure and vibration. There is a lot to be said about the topic of error detection. For examples, the errors we have here are univariate, meaning that we detect anomalies separately for each telemetry variable. We can also try a multi-variate anomaly detection algorithm. In this case, we could use a method like principal component analysis (PCA) to detect anomalies on the most important principal component(s)."
    },
    {
      "metadata": {},
      "cell_type": "markdown",
      "source": "### Lab"
    },
    {
      "metadata": {
        "hide_input": false,
        "solution2": "hidden",
        "solution2_first": true
      },
      "cell_type": "markdown",
      "source": "<div class=\"alert alert-info\">\nA simple question we can ask is this: Do some errors happen more often in some machines than others? In other words, what is the distribution of errors across machines?\n\nUse `pd.crosstab` to answer the above quesion. Hint: use the `normalize` argument.\n</div>"
    },
    {
      "metadata": {
        "trusted": true
      },
      "cell_type": "code",
      "source": "# write solution here",
      "execution_count": 6,
      "outputs": []
    },
    {
      "metadata": {
        "hide_input": false,
        "solution2": "hidden",
        "trusted": true
      },
      "cell_type": "code",
      "source": "# %cat ../solutions/crosstab.py",
      "execution_count": 7,
      "outputs": [
        {
          "output_type": "stream",
          "text": "ct = pd.crosstab(df_errors['machineID'], df_errors['errorID'], rownames=['device'], colnames=['error'], normalize='columns')",
          "name": "stdout"
        }
      ]
    },
    {
      "metadata": {},
      "cell_type": "markdown",
      "source": "<div class=\"alert alert-info\">\nWith so many machines, it may be easier to answer our question visually. We can pass the output of `pd.crosstab` directly to `sns.heatmap` to generate a heat map. How would you answer the question based on the heatmap below? Please provide examples.\n</div>"
    },
    {
      "metadata": {
        "trusted": true
      },
      "cell_type": "code",
      "source": "# write solution here\nax = sns.heatmap(ct, xticklabels=2, yticklabels=False)",
      "execution_count": 8,
      "outputs": [
        {
          "output_type": "display_data",
          "data": {
            "image/png": "[encoded data removed]",
            "text/plain": "<Figure size 1080x576 with 2 Axes>"
          },
          "metadata": {}
        }
      ]
    },
    {
      "metadata": {
        "trusted": false
      },
      "cell_type": "code",
      "source": "# %cat ../solutions/heatmap.py",
      "execution_count": null,
      "outputs": []
    },
    {
      "metadata": {},
      "cell_type": "markdown",
      "source": "### End of lab"
    },
    {
      "metadata": {},
      "cell_type": "markdown",
      "source": "We can visualize the errors that happen on a given machine to get a sense of how they spread over time."
    },
    {
      "metadata": {
        "trusted": true
      },
      "cell_type": "code",
      "source": "df_subset = df_errors.loc[(df_errors.datetime.between('2015-01-01', '2016-01-01')) & (df_errors.machineID == 1)]\ndf_subset.head()\nax = sns.stripplot(x=\"datetime\", y=\"errorID\", data=df_subset, jitter=0)\ndel df_subset",
      "execution_count": 9,
      "outputs": [
        {
          "output_type": "display_data",
          "data": {
            "image/png": "[encoded data removed]",
            "text/plain": "<Figure size 1080x576 with 1 Axes>"
          },
          "metadata": {}
        }
      ]
    },
    {
      "metadata": {},
      "cell_type": "markdown",
      "source": "Let's now move on to the dataset that logs failures. As we can see, failures are logged by component (although any component failing will result in the machine as a whole failing)."
    },
    {
      "metadata": {
        "trusted": true
      },
      "cell_type": "code",
      "source": "df_fails = pd.read_csv('../data/failures.csv', header=0)\ndf_fails['datetime'] = pd.to_datetime(df_fails['datetime'], format=\"%m/%d/%Y %I:%M:%S %p\")\ndf_fails.head()",
      "execution_count": 10,
      "outputs": [
        {
          "output_type": "execute_result",
          "execution_count": 10,
          "data": {
            "text/html": "<div>\n<style scoped>\n    .dataframe tbody tr th:only-of-type {\n        vertical-align: middle;\n    }\n\n    .dataframe tbody tr th {\n        vertical-align: top;\n    }\n\n    .dataframe thead th {\n        text-align: right;\n    }\n</style>\n<table border=\"1\" class=\"dataframe\">\n  <thead>\n    <tr style=\"text-align: right;\">\n      <th></th>\n      <th>datetime</th>\n      <th>machineID</th>\n      <th>failure</th>\n    </tr>\n  </thead>\n  <tbody>\n    <tr>\n      <th>0</th>\n      <td>2015-01-05 06:00:00</td>\n      <td>1</td>\n      <td>comp4</td>\n    </tr>\n    <tr>\n      <th>1</th>\n      <td>2015-03-06 06:00:00</td>\n      <td>1</td>\n      <td>comp1</td>\n    </tr>\n    <tr>\n      <th>2</th>\n      <td>2015-04-20 06:00:00</td>\n      <td>1</td>\n      <td>comp2</td>\n    </tr>\n    <tr>\n      <th>3</th>\n      <td>2015-06-19 06:00:00</td>\n      <td>1</td>\n      <td>comp4</td>\n    </tr>\n    <tr>\n      <th>4</th>\n      <td>2015-09-02 06:00:00</td>\n      <td>1</td>\n      <td>comp4</td>\n    </tr>\n  </tbody>\n</table>\n</div>",
            "text/plain": "             datetime  machineID failure\n0 2015-01-05 06:00:00          1   comp4\n1 2015-03-06 06:00:00          1   comp1\n2 2015-04-20 06:00:00          1   comp2\n3 2015-06-19 06:00:00          1   comp4\n4 2015-09-02 06:00:00          1   comp4"
          },
          "metadata": {}
        }
      ]
    },
    {
      "metadata": {},
      "cell_type": "markdown",
      "source": "Now we look at the dataset of maintenance log, which is also by component."
    },
    {
      "metadata": {
        "trusted": true
      },
      "cell_type": "code",
      "source": "df_maint = pd.read_csv('../data/maintenance.csv', header=0)\ndf_maint['datetime'] = pd.to_datetime(df_maint['datetime'], format=\"%m/%d/%Y %I:%M:%S %p\")\ndf_maint.head()",
      "execution_count": 11,
      "outputs": [
        {
          "output_type": "execute_result",
          "execution_count": 11,
          "data": {
            "text/html": "<div>\n<style scoped>\n    .dataframe tbody tr th:only-of-type {\n        vertical-align: middle;\n    }\n\n    .dataframe tbody tr th {\n        vertical-align: top;\n    }\n\n    .dataframe thead th {\n        text-align: right;\n    }\n</style>\n<table border=\"1\" class=\"dataframe\">\n  <thead>\n    <tr style=\"text-align: right;\">\n      <th></th>\n      <th>datetime</th>\n      <th>machineID</th>\n      <th>comp</th>\n    </tr>\n  </thead>\n  <tbody>\n    <tr>\n      <th>0</th>\n      <td>2014-06-01 06:00:00</td>\n      <td>1</td>\n      <td>comp2</td>\n    </tr>\n    <tr>\n      <th>1</th>\n      <td>2014-07-16 06:00:00</td>\n      <td>1</td>\n      <td>comp4</td>\n    </tr>\n    <tr>\n      <th>2</th>\n      <td>2014-07-31 06:00:00</td>\n      <td>1</td>\n      <td>comp3</td>\n    </tr>\n    <tr>\n      <th>3</th>\n      <td>2014-12-13 06:00:00</td>\n      <td>1</td>\n      <td>comp1</td>\n    </tr>\n    <tr>\n      <th>4</th>\n      <td>2015-01-05 06:00:00</td>\n      <td>1</td>\n      <td>comp4</td>\n    </tr>\n  </tbody>\n</table>\n</div>",
            "text/plain": "             datetime  machineID   comp\n0 2014-06-01 06:00:00          1  comp2\n1 2014-07-16 06:00:00          1  comp4\n2 2014-07-31 06:00:00          1  comp3\n3 2014-12-13 06:00:00          1  comp1\n4 2015-01-05 06:00:00          1  comp4"
          },
          "metadata": {}
        }
      ]
    },
    {
      "metadata": {},
      "cell_type": "markdown",
      "source": "### Lab"
    },
    {
      "metadata": {
        "hide_input": false,
        "solution2": "hidden",
        "solution2_first": true
      },
      "cell_type": "markdown",
      "source": "<div class=\"alert alert-info\">\nFor each component, find the percentage of replacements that are due to component failure (as opposed to scheduled maintenance).\n</div>"
    },
    {
      "metadata": {
        "trusted": true
      },
      "cell_type": "code",
      "source": "# write solution here\ndf_counts = pd.DataFrame({'replacements' : df_maint.groupby(['comp']).count()['machineID'],\n                          'failures' : df_fails.groupby(['failure']).count()['machineID']})\n\ndf_counts['percent_due_to_failure'] = df_counts['failures'] / df_counts['replacements']\ndf_counts",
      "execution_count": 12,
      "outputs": [
        {
          "output_type": "execute_result",
          "execution_count": 12,
          "data": {
            "text/html": "<div>\n<style scoped>\n    .dataframe tbody tr th:only-of-type {\n        vertical-align: middle;\n    }\n\n    .dataframe tbody tr th {\n        vertical-align: top;\n    }\n\n    .dataframe thead th {\n        text-align: right;\n    }\n</style>\n<table border=\"1\" class=\"dataframe\">\n  <thead>\n    <tr style=\"text-align: right;\">\n      <th></th>\n      <th>failures</th>\n      <th>replacements</th>\n      <th>percent_due_to_failure</th>\n    </tr>\n  </thead>\n  <tbody>\n    <tr>\n      <th>comp1</th>\n      <td>192</td>\n      <td>804</td>\n      <td>0.238806</td>\n    </tr>\n    <tr>\n      <th>comp2</th>\n      <td>259</td>\n      <td>863</td>\n      <td>0.300116</td>\n    </tr>\n    <tr>\n      <th>comp3</th>\n      <td>131</td>\n      <td>808</td>\n      <td>0.162129</td>\n    </tr>\n    <tr>\n      <th>comp4</th>\n      <td>179</td>\n      <td>811</td>\n      <td>0.220715</td>\n    </tr>\n  </tbody>\n</table>\n</div>",
            "text/plain": "       failures  replacements  percent_due_to_failure\ncomp1       192           804                0.238806\ncomp2       259           863                0.300116\ncomp3       131           808                0.162129\ncomp4       179           811                0.220715"
          },
          "metadata": {}
        }
      ]
    },
    {
      "metadata": {
        "solution2": "hidden",
        "trusted": true
      },
      "cell_type": "code",
      "source": "# %cat ../solutions/percent_replacements.py",
      "execution_count": 16,
      "outputs": [
        {
          "output_type": "execute_result",
          "execution_count": 16,
          "data": {
            "text/html": "<div>\n<style scoped>\n    .dataframe tbody tr th:only-of-type {\n        vertical-align: middle;\n    }\n\n    .dataframe tbody tr th {\n        vertical-align: top;\n    }\n\n    .dataframe thead th {\n        text-align: right;\n    }\n</style>\n<table border=\"1\" class=\"dataframe\">\n  <thead>\n    <tr style=\"text-align: right;\">\n      <th></th>\n      <th>failures</th>\n      <th>replacements</th>\n      <th>percent_due_to_failure</th>\n    </tr>\n  </thead>\n  <tbody>\n    <tr>\n      <th>comp1</th>\n      <td>192</td>\n      <td>804</td>\n      <td>0.238806</td>\n    </tr>\n    <tr>\n      <th>comp2</th>\n      <td>259</td>\n      <td>863</td>\n      <td>0.300116</td>\n    </tr>\n    <tr>\n      <th>comp3</th>\n      <td>131</td>\n      <td>808</td>\n      <td>0.162129</td>\n    </tr>\n    <tr>\n      <th>comp4</th>\n      <td>179</td>\n      <td>811</td>\n      <td>0.220715</td>\n    </tr>\n  </tbody>\n</table>\n</div>",
            "text/plain": "       failures  replacements  percent_due_to_failure\ncomp1       192           804                0.238806\ncomp2       259           863                0.300116\ncomp3       131           808                0.162129\ncomp4       179           811                0.220715"
          },
          "metadata": {}
        }
      ]
    },
    {
      "metadata": {},
      "cell_type": "markdown",
      "source": "### End of lab"
    },
    {
      "metadata": {},
      "cell_type": "markdown",
      "source": "We can obtain the same answer in a more detailed way by doing an **outer join** of the maintenance logs and the failure logs to see how many records matched and where they came from (in `pd.merge` we can use the `indicator=True` argument to get a column called `_merge` that indicates if the keys were present in the left, right, or both datasets."
    },
    {
      "metadata": {
        "trusted": true
      },
      "cell_type": "code",
      "source": "df_join = pd.merge(left=df_maint, right=df_fails.rename(columns={'failure':'comp'}), how = 'outer', indicator=True,\n         on=['datetime', 'machineID', 'comp'], validate='one_to_one')\ndf_join.head()",
      "execution_count": 17,
      "outputs": [
        {
          "output_type": "execute_result",
          "execution_count": 17,
          "data": {
            "text/html": "<div>\n<style scoped>\n    .dataframe tbody tr th:only-of-type {\n        vertical-align: middle;\n    }\n\n    .dataframe tbody tr th {\n        vertical-align: top;\n    }\n\n    .dataframe thead th {\n        text-align: right;\n    }\n</style>\n<table border=\"1\" class=\"dataframe\">\n  <thead>\n    <tr style=\"text-align: right;\">\n      <th></th>\n      <th>datetime</th>\n      <th>machineID</th>\n      <th>comp</th>\n      <th>_merge</th>\n    </tr>\n  </thead>\n  <tbody>\n    <tr>\n      <th>0</th>\n      <td>2014-06-01 06:00:00</td>\n      <td>1</td>\n      <td>comp2</td>\n      <td>left_only</td>\n    </tr>\n    <tr>\n      <th>1</th>\n      <td>2014-07-16 06:00:00</td>\n      <td>1</td>\n      <td>comp4</td>\n      <td>left_only</td>\n    </tr>\n    <tr>\n      <th>2</th>\n      <td>2014-07-31 06:00:00</td>\n      <td>1</td>\n      <td>comp3</td>\n      <td>left_only</td>\n    </tr>\n    <tr>\n      <th>3</th>\n      <td>2014-12-13 06:00:00</td>\n      <td>1</td>\n      <td>comp1</td>\n      <td>left_only</td>\n    </tr>\n    <tr>\n      <th>4</th>\n      <td>2015-01-05 06:00:00</td>\n      <td>1</td>\n      <td>comp4</td>\n      <td>both</td>\n    </tr>\n  </tbody>\n</table>\n</div>",
            "text/plain": "             datetime  machineID   comp     _merge\n0 2014-06-01 06:00:00          1  comp2  left_only\n1 2014-07-16 06:00:00          1  comp4  left_only\n2 2014-07-31 06:00:00          1  comp3  left_only\n3 2014-12-13 06:00:00          1  comp1  left_only\n4 2015-01-05 06:00:00          1  comp4       both"
          },
          "metadata": {}
        }
      ]
    },
    {
      "metadata": {},
      "cell_type": "markdown",
      "source": "- If a record is present in the left dataset only, it represents a working component being replaced due to scheduled maintenance.\n- If a record is present in the right dataset only, it represents a failed component that was not replaced immediately. This case should be rare since it would result in downtime.\n- If a record is present in both datasets, it represents a failed component that was immediately replaced (we can also call this **un-**scheduled maintenance)."
    },
    {
      "metadata": {},
      "cell_type": "markdown",
      "source": "We can run `pd.crosstab` to get counts for each of the above categories, broken up by component."
    },
    {
      "metadata": {
        "trusted": true
      },
      "cell_type": "code",
      "source": "ct = pd.crosstab(df_join['comp'], df_join['_merge'], margins=True)\nct.rename(columns={\"left_only\":\"not_failed_but_replaced\", \"right_only\":\"failed_not_replaced\", \"both\":\"failed_and_replaced\"})",
      "execution_count": 18,
      "outputs": [
        {
          "output_type": "execute_result",
          "execution_count": 18,
          "data": {
            "text/html": "<div>\n<style scoped>\n    .dataframe tbody tr th:only-of-type {\n        vertical-align: middle;\n    }\n\n    .dataframe tbody tr th {\n        vertical-align: top;\n    }\n\n    .dataframe thead th {\n        text-align: right;\n    }\n</style>\n<table border=\"1\" class=\"dataframe\">\n  <thead>\n    <tr style=\"text-align: right;\">\n      <th>_merge</th>\n      <th>not_failed_but_replaced</th>\n      <th>failed_not_replaced</th>\n      <th>failed_and_replaced</th>\n      <th>All</th>\n    </tr>\n    <tr>\n      <th>comp</th>\n      <th></th>\n      <th></th>\n      <th></th>\n      <th></th>\n    </tr>\n  </thead>\n  <tbody>\n    <tr>\n      <th>comp1</th>\n      <td>621</td>\n      <td>9</td>\n      <td>183</td>\n      <td>813</td>\n    </tr>\n    <tr>\n      <th>comp2</th>\n      <td>607</td>\n      <td>3</td>\n      <td>256</td>\n      <td>866</td>\n    </tr>\n    <tr>\n      <th>comp3</th>\n      <td>680</td>\n      <td>3</td>\n      <td>128</td>\n      <td>811</td>\n    </tr>\n    <tr>\n      <th>comp4</th>\n      <td>635</td>\n      <td>3</td>\n      <td>176</td>\n      <td>814</td>\n    </tr>\n    <tr>\n      <th>All</th>\n      <td>2543</td>\n      <td>18</td>\n      <td>743</td>\n      <td>3304</td>\n    </tr>\n  </tbody>\n</table>\n</div>",
            "text/plain": "_merge  not_failed_but_replaced  failed_not_replaced  failed_and_replaced  \\\ncomp                                                                        \ncomp1                       621                    9                  183   \ncomp2                       607                    3                  256   \ncomp3                       680                    3                  128   \ncomp4                       635                    3                  176   \nAll                        2543                   18                  743   \n\n_merge   All  \ncomp          \ncomp1    813  \ncomp2    866  \ncomp3    811  \ncomp4    814  \nAll     3304  "
          },
          "metadata": {}
        }
      ]
    },
    {
      "metadata": {},
      "cell_type": "markdown",
      "source": "We can confirm that the second category is rare. This is usually the case in cases where downtime can result in significant costs."
    },
    {
      "metadata": {},
      "cell_type": "markdown",
      "source": "The last dataset we look at is the machine metadata. In this case, we only have information about the model and age of the machine."
    },
    {
      "metadata": {
        "trusted": true
      },
      "cell_type": "code",
      "source": "df_machines = pd.read_csv('../data/machines.csv', header=0)\ndf_machines.head()",
      "execution_count": 19,
      "outputs": [
        {
          "output_type": "execute_result",
          "execution_count": 19,
          "data": {
            "text/html": "<div>\n<style scoped>\n    .dataframe tbody tr th:only-of-type {\n        vertical-align: middle;\n    }\n\n    .dataframe tbody tr th {\n        vertical-align: top;\n    }\n\n    .dataframe thead th {\n        text-align: right;\n    }\n</style>\n<table border=\"1\" class=\"dataframe\">\n  <thead>\n    <tr style=\"text-align: right;\">\n      <th></th>\n      <th>machineID</th>\n      <th>model</th>\n      <th>age</th>\n    </tr>\n  </thead>\n  <tbody>\n    <tr>\n      <th>0</th>\n      <td>1</td>\n      <td>model3</td>\n      <td>18</td>\n    </tr>\n    <tr>\n      <th>1</th>\n      <td>2</td>\n      <td>model4</td>\n      <td>7</td>\n    </tr>\n    <tr>\n      <th>2</th>\n      <td>3</td>\n      <td>model3</td>\n      <td>8</td>\n    </tr>\n    <tr>\n      <th>3</th>\n      <td>4</td>\n      <td>model3</td>\n      <td>7</td>\n    </tr>\n    <tr>\n      <th>4</th>\n      <td>5</td>\n      <td>model3</td>\n      <td>2</td>\n    </tr>\n  </tbody>\n</table>\n</div>",
            "text/plain": "   machineID   model  age\n0          1  model3   18\n1          2  model4    7\n2          3  model3    8\n3          4  model3    7\n4          5  model3    2"
          },
          "metadata": {}
        }
      ]
    },
    {
      "metadata": {},
      "cell_type": "markdown",
      "source": "We are now ready to move on to the next phase, where we gradually combine our datasets into one dataset that will be used for modeling and contains the features we think will be useful."
    },
    {
      "metadata": {},
      "cell_type": "markdown",
      "source": "## Feature engineering"
    },
    {
      "metadata": {},
      "cell_type": "markdown",
      "source": "Our approach to getting the data ready for modeling will consist mainly of two things:\n\n- for the telemetry data, we get rolling aggregates (means and standard deviation) \n- for the error, failure and maintenance logs, we get obtain the number of hours since each of these events happened\n\nWe then combine the result of the above two datasets into one, and add the machine metadata at the end. For the most part the feature engineering steps described above are relatively straight-forward, but in some cases we need to process the data in creative ways to get the results we want."
    },
    {
      "metadata": {
        "trusted": true
      },
      "cell_type": "code",
      "source": "df_left = df_telemetry.loc[:, ['datetime', 'machineID']] # we set this aside to this table to join all our results with\n\n# this will make it easier to automatically create features with the right column names\ndf_errors['errorID'] = df_errors['errorID'].apply(lambda x: int(x[-1]))\ndf_maint['comp'] = df_maint['comp'].apply(lambda x: int(x[-1]))\ndf_fails['failure'] = df_fails['failure'].apply(lambda x: int(x[-1]))",
      "execution_count": 20,
      "outputs": []
    },
    {
      "metadata": {},
      "cell_type": "markdown",
      "source": "Let's begin with a function that will give us rolling mean and standard deviation for the telemetry data."
    },
    {
      "metadata": {
        "trusted": true
      },
      "cell_type": "code",
      "source": "import numpy as np\n\ndef get_rolling_aggregates(df, colnames, suffixes, window, on, groupby, lagon = None):\n    \"\"\"\n    calculates rolling averages and standard deviations\n    \n    Arguments:\n    df -- dataframe to run it on\n    colnames -- names of columns we want rolling statistics for\n    suffixes -- suffixes attached to the new columns (provide a list with strings)\n    window -- the lag over which rolling statistics are calculated\n    on -- the interval at which rolling statistics are calculated\n    groupby -- the column used to group results by\n    lagon -- the name of the datetime column used to compute lags (if none specified it defaults to row number)\n      \n    Returns:\n    a dataframe with rolling statistics over a specified lag calculated over a specified interval\n    \"\"\"\n    \n    rolling_colnames = [c + suffixes[0] for c in colnames]\n    df_rolling_mean = df.groupby(groupby).rolling(window=window, on=lagon)[colnames].mean()\n    df_rolling_mean.columns = rolling_colnames\n    df_rolling_mean.reset_index(inplace=True)\n    \n    rolling_colnames = [c + suffixes[1] for c in colnames]\n    df_rolling_sd = df.groupby(groupby).rolling(window=window, on=lagon)[colnames].var()\n    df_rolling_sd.columns = rolling_colnames\n    df_rolling_sd = df_rolling_sd.apply(np.sqrt)\n    df_rolling_sd.reset_index(inplace=True, drop=True)\n    \n    df_res = pd.concat([df_rolling_mean, df_rolling_sd], axis=1)\n    df_res = df_res.loc[df_res.index % on == on-1]\n    return df_res",
      "execution_count": 21,
      "outputs": []
    },
    {
      "metadata": {},
      "cell_type": "markdown",
      "source": "We will apply this function twice, once to get rolling aggregates using a sliding window of 3 hours collected every 3 hours, and a second time to get rolling aggregates using a sliding window of 12 hours also collected every 3 hours."
    },
    {
      "metadata": {
        "trusted": true
      },
      "cell_type": "code",
      "source": "cols_to_average = df_telemetry.columns[-4:]\n\ndf_telemetry_rolling_3h = get_rolling_aggregates(df_telemetry, cols_to_average, \n                                                 suffixes = ['_ma_3', '_sd_3'], \n                                                 window = 3, on = 3, \n                                                 groupby = 'machineID', lagon = 'datetime')\n# df_telemetry_rolling_3h.head(20)",
      "execution_count": 22,
      "outputs": []
    },
    {
      "metadata": {
        "trusted": true
      },
      "cell_type": "code",
      "source": "df_telemetry_rolling_12h = get_rolling_aggregates(df_telemetry, cols_to_average, \n                                                  suffixes = ['_ma_12', '_sd_12'], \n                                                  window = 12, on = 3, \n                                                  groupby = 'machineID', lagon = 'datetime')\n# df_telemetry_rolling_12h.head(20)",
      "execution_count": 23,
      "outputs": []
    },
    {
      "metadata": {},
      "cell_type": "markdown",
      "source": "We can combine both results into a single table and back-fill any missing values."
    },
    {
      "metadata": {
        "trusted": true
      },
      "cell_type": "code",
      "source": "df_telemetry_rolling = pd.concat([df_telemetry_rolling_3h, df_telemetry_rolling_12h.drop(['machineID', 'datetime'], axis=1)], \n                              axis=1)#, sort = True)\n# df_telemetry_rolling.head()",
      "execution_count": 26,
      "outputs": []
    },
    {
      "metadata": {
        "trusted": true
      },
      "cell_type": "code",
      "source": "df_telemetry_feat_roll = df_left.merge(df_telemetry_rolling, how=\"inner\", on=['machineID', 'datetime'], validate = \"one_to_one\")\ndf_telemetry_feat_roll.fillna(method='bfill', inplace=True)\ndf_telemetry_feat_roll.head()",
      "execution_count": 27,
      "outputs": [
        {
          "output_type": "execute_result",
          "execution_count": 27,
          "data": {
            "text/html": "<div>\n<style scoped>\n    .dataframe tbody tr th:only-of-type {\n        vertical-align: middle;\n    }\n\n    .dataframe tbody tr th {\n        vertical-align: top;\n    }\n\n    .dataframe thead th {\n        text-align: right;\n    }\n</style>\n<table border=\"1\" class=\"dataframe\">\n  <thead>\n    <tr style=\"text-align: right;\">\n      <th></th>\n      <th>datetime</th>\n      <th>machineID</th>\n      <th>volt_ma_3</th>\n      <th>rotate_ma_3</th>\n      <th>pressure_ma_3</th>\n      <th>vibration_ma_3</th>\n      <th>volt_sd_3</th>\n      <th>rotate_sd_3</th>\n      <th>pressure_sd_3</th>\n      <th>vibration_sd_3</th>\n      <th>volt_ma_12</th>\n      <th>rotate_ma_12</th>\n      <th>pressure_ma_12</th>\n      <th>vibration_ma_12</th>\n      <th>volt_sd_12</th>\n      <th>rotate_sd_12</th>\n      <th>pressure_sd_12</th>\n      <th>vibration_sd_12</th>\n    </tr>\n  </thead>\n  <tbody>\n    <tr>\n      <th>0</th>\n      <td>2015-01-01 08:00:00</td>\n      <td>1</td>\n      <td>170.028993</td>\n      <td>449.533798</td>\n      <td>94.592122</td>\n      <td>40.893502</td>\n      <td>6.721032</td>\n      <td>67.849599</td>\n      <td>18.934956</td>\n      <td>5.874970</td>\n      <td>166.967614</td>\n      <td>429.934546</td>\n      <td>102.444134</td>\n      <td>39.190634</td>\n      <td>6.849631</td>\n      <td>49.650872</td>\n      <td>10.782098</td>\n      <td>5.619049</td>\n    </tr>\n    <tr>\n      <th>1</th>\n      <td>2015-01-01 11:00:00</td>\n      <td>1</td>\n      <td>164.192565</td>\n      <td>403.949857</td>\n      <td>105.687417</td>\n      <td>34.255891</td>\n      <td>7.596570</td>\n      <td>50.120452</td>\n      <td>8.555032</td>\n      <td>7.662229</td>\n      <td>166.967614</td>\n      <td>429.934546</td>\n      <td>102.444134</td>\n      <td>39.190634</td>\n      <td>6.849631</td>\n      <td>49.650872</td>\n      <td>10.782098</td>\n      <td>5.619049</td>\n    </tr>\n    <tr>\n      <th>2</th>\n      <td>2015-01-01 14:00:00</td>\n      <td>1</td>\n      <td>168.134445</td>\n      <td>435.781707</td>\n      <td>107.793709</td>\n      <td>41.239405</td>\n      <td>10.124584</td>\n      <td>55.084734</td>\n      <td>5.909721</td>\n      <td>5.169304</td>\n      <td>166.967614</td>\n      <td>429.934546</td>\n      <td>102.444134</td>\n      <td>39.190634</td>\n      <td>6.849631</td>\n      <td>49.650872</td>\n      <td>10.782098</td>\n      <td>5.619049</td>\n    </tr>\n    <tr>\n      <th>3</th>\n      <td>2015-01-01 17:00:00</td>\n      <td>1</td>\n      <td>165.514453</td>\n      <td>430.472823</td>\n      <td>101.703289</td>\n      <td>40.373739</td>\n      <td>4.673269</td>\n      <td>42.047278</td>\n      <td>4.554047</td>\n      <td>2.106108</td>\n      <td>166.967614</td>\n      <td>429.934546</td>\n      <td>102.444134</td>\n      <td>39.190634</td>\n      <td>6.849631</td>\n      <td>49.650872</td>\n      <td>10.782098</td>\n      <td>5.619049</td>\n    </tr>\n    <tr>\n      <th>4</th>\n      <td>2015-01-01 20:00:00</td>\n      <td>1</td>\n      <td>168.809347</td>\n      <td>437.111120</td>\n      <td>90.911060</td>\n      <td>41.738542</td>\n      <td>14.752132</td>\n      <td>47.048609</td>\n      <td>4.244158</td>\n      <td>2.207884</td>\n      <td>166.662702</td>\n      <td>426.828877</td>\n      <td>101.523869</td>\n      <td>39.401894</td>\n      <td>8.748726</td>\n      <td>43.925228</td>\n      <td>8.536877</td>\n      <td>5.207254</td>\n    </tr>\n  </tbody>\n</table>\n</div>",
            "text/plain": "             datetime  machineID   volt_ma_3  rotate_ma_3  pressure_ma_3  \\\n0 2015-01-01 08:00:00          1  170.028993   449.533798      94.592122   \n1 2015-01-01 11:00:00          1  164.192565   403.949857     105.687417   \n2 2015-01-01 14:00:00          1  168.134445   435.781707     107.793709   \n3 2015-01-01 17:00:00          1  165.514453   430.472823     101.703289   \n4 2015-01-01 20:00:00          1  168.809347   437.111120      90.911060   \n\n   vibration_ma_3  volt_sd_3  rotate_sd_3  pressure_sd_3  vibration_sd_3  \\\n0       40.893502   6.721032    67.849599      18.934956        5.874970   \n1       34.255891   7.596570    50.120452       8.555032        7.662229   \n2       41.239405  10.124584    55.084734       5.909721        5.169304   \n3       40.373739   4.673269    42.047278       4.554047        2.106108   \n4       41.738542  14.752132    47.048609       4.244158        2.207884   \n\n   volt_ma_12  rotate_ma_12  pressure_ma_12  vibration_ma_12  volt_sd_12  \\\n0  166.967614    429.934546      102.444134        39.190634    6.849631   \n1  166.967614    429.934546      102.444134        39.190634    6.849631   \n2  166.967614    429.934546      102.444134        39.190634    6.849631   \n3  166.967614    429.934546      102.444134        39.190634    6.849631   \n4  166.662702    426.828877      101.523869        39.401894    8.748726   \n\n   rotate_sd_12  pressure_sd_12  vibration_sd_12  \n0     49.650872       10.782098         5.619049  \n1     49.650872       10.782098         5.619049  \n2     49.650872       10.782098         5.619049  \n3     49.650872       10.782098         5.619049  \n4     43.925228        8.536877         5.207254  "
          },
          "metadata": {}
        }
      ]
    },
    {
      "metadata": {
        "trusted": true
      },
      "cell_type": "code",
      "source": "del df_telemetry_rolling, df_telemetry_rolling_3h, df_telemetry_rolling_12h",
      "execution_count": 28,
      "outputs": []
    },
    {
      "metadata": {},
      "cell_type": "markdown",
      "source": "We now write a function that takes care of extracting features showing when events (errors, failures, replacements) occured. The data is then passed to the same 3-hour sliding filter as the telemetry data. Using a rolling max function, we compute if there was an event sometime in the last 3 hours. Finally we compute time elapsed since the last event. \n\nWe use the following naming convention for the column names in the final dataset. For a given machine at a given date and time:\n\n- `e_1` is a flag indicating if error 1 occured, likewise for `e_2` through `e_4`\n- `de_1` is a numeric feature that represents the hours elapsed since the last time error 1 occured, likewise for `de_2` through `de_4`\n- `m_1` is a flag indicating if component 1 was replaced, likewise for `m_2` through `m_4`\n- `dm_1` is a numeric feature that represents the hours elapsed since the last time component 1 was replaced, likewise for `dm_2` through `dm_4`\n- `f_1` is a flag indicating if component 1 failed, likewise for `f_2` through `f_4`\n- `df_1` is a numeric feature that represents the hours elapsed since the last time component 1 failed, likewise for `df_2` through `df_4`\n\nFinally, we will use `f_1` through `f_4` to create the targets `y_1` through `y_4`:\n- `y_1` is a flag indicating if component 1 is about to fail, likewise for `y_2` through `y_4`"
    },
    {
      "metadata": {
        "trusted": true
      },
      "cell_type": "code",
      "source": "def get_datetime_diffs(df_left, df_right, catvar, prefix, window, on, lagon = None, diff_type = 'timedelta64[h]', validate = 'one_to_one', show_example = True):\n    \"\"\"\n    finds the last time an event (error, failure, maintenance) happened over a sliding window and the time elapsed since\n    \n    Arguments:\n    df_left -- dataframe with keys\n    df_right -- dataframe with events (in this case: errors, failures, or maintenance)\n    catvar -- the column in df_right which encodes events\n    prefix -- prefix to add to new column names\n    window -- the lag over which rolling max is calculated\n    on -- the interval at which rolling max are calculated\n    lagon -- the name of the datetime column used to compute lags (if none specified it defaults to row number)\n    diff_type -- the format to convert time differences to (hours is the default)\n    validate -- set to 'one_to_one' to ensure the validity of the ensuing merge operation\n    show_example -- prints an example so we can check results\n    \n    Returns:\n    the dataframe with the following columns for each event: \n      - a dummy column showing which event happened\n      - a corresponding difference column showing the time elapsed since the event last occured\n    \"\"\"\n\n    # create dummy columns and merge them with left data\n    keys = ['machineID', 'datetime']\n    df_dummies = pd.get_dummies(df_right[catvar], prefix=prefix)\n    df_wide = pd.concat([df_right.loc[:, keys], df_dummies], axis=1)\n    df_wide = df_wide.groupby(keys).sum().reset_index()\n    df = df_left.merge(df_wide, how=\"left\", on=keys, validate = validate).fillna(0)\n\n    # run a rolling window through event flags to aggregate data\n    dummy_col_names = df_dummies.columns\n    df = df.groupby('machineID').rolling(window=window, on=lagon)[dummy_col_names].max()\n    df.reset_index(inplace=True)\n    df = df.loc[df.index % on == on-1]\n    df.reset_index(inplace=True, drop=True)\n\n    df_first = df.groupby('machineID', as_index=False).nth(0)\n    # calculate the time of the last event and the time elapsed since\n    for col in dummy_col_names:\n        whenlast, diffcol = 'last_' + col, 'd' + col\n        df.loc[:, col].fillna(value = 0, inplace=True)\n        # let's assume an event happened in row 0, so we don't have missing values for the time elapsed\n        df.iloc[df_first.index, df.columns.get_loc(col)] = 1\n        \n        df.loc[df[col] == 1, whenlast] = df.loc[df[col] == 1, 'datetime']\n        # for the first occurence we don't know when it last happened, so we assume it happened then\n        df.iloc[df_first.index, df.columns.get_loc(whenlast)] = df.iloc[df_first.index, df.columns.get_loc('datetime')]\n        df[whenlast].fillna(method='ffill', inplace=True)\n        \n        # df.loc[df[whenlast] > df['datetime'], whenlast] = np.nan\n        df.loc[df[whenlast] <= df['datetime'], diffcol] = (df['datetime'] - df[whenlast]).astype(diff_type)\n        df.drop(columns = whenlast, inplace=True)\n    \n    if show_example == True:\n        col = np.random.choice(dummy_col_names, size = 1)[0]\n        idx = np.random.choice(df.loc[df[col] == 1, :].index.tolist(), size = 1)[0]\n        print('Example:\\n')\n        print(df.loc[df.index.isin(range(idx-3, idx+5)), ['datetime', col, 'd' + col]])\n    \n    return df",
      "execution_count": 29,
      "outputs": []
    },
    {
      "metadata": {
        "trusted": true
      },
      "cell_type": "code",
      "source": "df_errors_feat_roll = get_datetime_diffs(df_left, df_errors, catvar='errorID', prefix='e', window = 6, lagon = 'datetime', on = 3)\ndf_errors_feat_roll.tail()",
      "execution_count": 30,
      "outputs": [
        {
          "output_type": "stream",
          "text": "Example:\n\n                  datetime  e_3    de_3\n212174 2015-08-28 02:00:00  0.0  2814.0\n212175 2015-08-28 05:00:00  0.0  2817.0\n212176 2015-08-28 08:00:00  0.0  2820.0\n212177 2015-08-28 11:00:00  1.0     0.0\n212178 2015-08-28 14:00:00  1.0     0.0\n212179 2015-08-28 17:00:00  1.0     0.0\n212180 2015-08-28 20:00:00  1.0     0.0\n212181 2015-08-28 23:00:00  1.0     0.0\n",
          "name": "stdout"
        },
        {
          "output_type": "execute_result",
          "execution_count": 30,
          "data": {
            "text/html": "<div>\n<style scoped>\n    .dataframe tbody tr th:only-of-type {\n        vertical-align: middle;\n    }\n\n    .dataframe tbody tr th {\n        vertical-align: top;\n    }\n\n    .dataframe thead th {\n        text-align: right;\n    }\n</style>\n<table border=\"1\" class=\"dataframe\">\n  <thead>\n    <tr style=\"text-align: right;\">\n      <th></th>\n      <th>machineID</th>\n      <th>datetime</th>\n      <th>e_1</th>\n      <th>e_2</th>\n      <th>e_3</th>\n      <th>e_4</th>\n      <th>de_1</th>\n      <th>de_2</th>\n      <th>de_3</th>\n      <th>de_4</th>\n    </tr>\n  </thead>\n  <tbody>\n    <tr>\n      <th>292028</th>\n      <td>100</td>\n      <td>2015-12-31 17:00:00</td>\n      <td>0.0</td>\n      <td>0.0</td>\n      <td>0.0</td>\n      <td>0.0</td>\n      <td>2691.0</td>\n      <td>531.0</td>\n      <td>5106.0</td>\n      <td>1299.0</td>\n    </tr>\n    <tr>\n      <th>292029</th>\n      <td>100</td>\n      <td>2015-12-31 20:00:00</td>\n      <td>0.0</td>\n      <td>0.0</td>\n      <td>0.0</td>\n      <td>0.0</td>\n      <td>2694.0</td>\n      <td>534.0</td>\n      <td>5109.0</td>\n      <td>1302.0</td>\n    </tr>\n    <tr>\n      <th>292030</th>\n      <td>100</td>\n      <td>2015-12-31 23:00:00</td>\n      <td>0.0</td>\n      <td>0.0</td>\n      <td>0.0</td>\n      <td>0.0</td>\n      <td>2697.0</td>\n      <td>537.0</td>\n      <td>5112.0</td>\n      <td>1305.0</td>\n    </tr>\n    <tr>\n      <th>292031</th>\n      <td>100</td>\n      <td>2016-01-01 02:00:00</td>\n      <td>0.0</td>\n      <td>0.0</td>\n      <td>0.0</td>\n      <td>0.0</td>\n      <td>2700.0</td>\n      <td>540.0</td>\n      <td>5115.0</td>\n      <td>1308.0</td>\n    </tr>\n    <tr>\n      <th>292032</th>\n      <td>100</td>\n      <td>2016-01-01 05:00:00</td>\n      <td>0.0</td>\n      <td>0.0</td>\n      <td>0.0</td>\n      <td>0.0</td>\n      <td>2703.0</td>\n      <td>543.0</td>\n      <td>5118.0</td>\n      <td>1311.0</td>\n    </tr>\n  </tbody>\n</table>\n</div>",
            "text/plain": "        machineID            datetime  e_1  e_2  e_3  e_4    de_1   de_2  \\\n292028        100 2015-12-31 17:00:00  0.0  0.0  0.0  0.0  2691.0  531.0   \n292029        100 2015-12-31 20:00:00  0.0  0.0  0.0  0.0  2694.0  534.0   \n292030        100 2015-12-31 23:00:00  0.0  0.0  0.0  0.0  2697.0  537.0   \n292031        100 2016-01-01 02:00:00  0.0  0.0  0.0  0.0  2700.0  540.0   \n292032        100 2016-01-01 05:00:00  0.0  0.0  0.0  0.0  2703.0  543.0   \n\n          de_3    de_4  \n292028  5106.0  1299.0  \n292029  5109.0  1302.0  \n292030  5112.0  1305.0  \n292031  5115.0  1308.0  \n292032  5118.0  1311.0  "
          },
          "metadata": {}
        }
      ]
    },
    {
      "metadata": {
        "trusted": true
      },
      "cell_type": "code",
      "source": "df_errors_feat_roll.loc[df_errors_feat_roll['machineID'] == 2, :].head()",
      "execution_count": 31,
      "outputs": [
        {
          "output_type": "execute_result",
          "execution_count": 31,
          "data": {
            "text/html": "<div>\n<style scoped>\n    .dataframe tbody tr th:only-of-type {\n        vertical-align: middle;\n    }\n\n    .dataframe tbody tr th {\n        vertical-align: top;\n    }\n\n    .dataframe thead th {\n        text-align: right;\n    }\n</style>\n<table border=\"1\" class=\"dataframe\">\n  <thead>\n    <tr style=\"text-align: right;\">\n      <th></th>\n      <th>machineID</th>\n      <th>datetime</th>\n      <th>e_1</th>\n      <th>e_2</th>\n      <th>e_3</th>\n      <th>e_4</th>\n      <th>de_1</th>\n      <th>de_2</th>\n      <th>de_3</th>\n      <th>de_4</th>\n    </tr>\n  </thead>\n  <tbody>\n    <tr>\n      <th>2920</th>\n      <td>2</td>\n      <td>2015-01-01 07:00:00</td>\n      <td>1.0</td>\n      <td>1.0</td>\n      <td>1.0</td>\n      <td>1.0</td>\n      <td>0.0</td>\n      <td>0.0</td>\n      <td>0.0</td>\n      <td>0.0</td>\n    </tr>\n    <tr>\n      <th>2921</th>\n      <td>2</td>\n      <td>2015-01-01 10:00:00</td>\n      <td>0.0</td>\n      <td>0.0</td>\n      <td>0.0</td>\n      <td>0.0</td>\n      <td>3.0</td>\n      <td>3.0</td>\n      <td>3.0</td>\n      <td>3.0</td>\n    </tr>\n    <tr>\n      <th>2922</th>\n      <td>2</td>\n      <td>2015-01-01 13:00:00</td>\n      <td>0.0</td>\n      <td>0.0</td>\n      <td>0.0</td>\n      <td>0.0</td>\n      <td>6.0</td>\n      <td>6.0</td>\n      <td>6.0</td>\n      <td>6.0</td>\n    </tr>\n    <tr>\n      <th>2923</th>\n      <td>2</td>\n      <td>2015-01-01 16:00:00</td>\n      <td>0.0</td>\n      <td>0.0</td>\n      <td>0.0</td>\n      <td>0.0</td>\n      <td>9.0</td>\n      <td>9.0</td>\n      <td>9.0</td>\n      <td>9.0</td>\n    </tr>\n    <tr>\n      <th>2924</th>\n      <td>2</td>\n      <td>2015-01-01 19:00:00</td>\n      <td>0.0</td>\n      <td>0.0</td>\n      <td>0.0</td>\n      <td>0.0</td>\n      <td>12.0</td>\n      <td>12.0</td>\n      <td>12.0</td>\n      <td>12.0</td>\n    </tr>\n  </tbody>\n</table>\n</div>",
            "text/plain": "      machineID            datetime  e_1  e_2  e_3  e_4  de_1  de_2  de_3  \\\n2920          2 2015-01-01 07:00:00  1.0  1.0  1.0  1.0   0.0   0.0   0.0   \n2921          2 2015-01-01 10:00:00  0.0  0.0  0.0  0.0   3.0   3.0   3.0   \n2922          2 2015-01-01 13:00:00  0.0  0.0  0.0  0.0   6.0   6.0   6.0   \n2923          2 2015-01-01 16:00:00  0.0  0.0  0.0  0.0   9.0   9.0   9.0   \n2924          2 2015-01-01 19:00:00  0.0  0.0  0.0  0.0  12.0  12.0  12.0   \n\n      de_4  \n2920   0.0  \n2921   3.0  \n2922   6.0  \n2923   9.0  \n2924  12.0  "
          },
          "metadata": {}
        }
      ]
    },
    {
      "metadata": {
        "trusted": true
      },
      "cell_type": "code",
      "source": "df_maint_feat_roll = get_datetime_diffs(df_left, df_maint, catvar='comp', prefix='m', \n                                        window = 6, lagon = 'datetime', on = 3, show_example=False)\ndf_maint_feat_roll.tail()",
      "execution_count": 32,
      "outputs": [
        {
          "output_type": "execute_result",
          "execution_count": 32,
          "data": {
            "text/html": "<div>\n<style scoped>\n    .dataframe tbody tr th:only-of-type {\n        vertical-align: middle;\n    }\n\n    .dataframe tbody tr th {\n        vertical-align: top;\n    }\n\n    .dataframe thead th {\n        text-align: right;\n    }\n</style>\n<table border=\"1\" class=\"dataframe\">\n  <thead>\n    <tr style=\"text-align: right;\">\n      <th></th>\n      <th>machineID</th>\n      <th>datetime</th>\n      <th>m_1</th>\n      <th>m_2</th>\n      <th>m_3</th>\n      <th>m_4</th>\n      <th>dm_1</th>\n      <th>dm_2</th>\n      <th>dm_3</th>\n      <th>dm_4</th>\n    </tr>\n  </thead>\n  <tbody>\n    <tr>\n      <th>292028</th>\n      <td>100</td>\n      <td>2015-12-31 17:00:00</td>\n      <td>0.0</td>\n      <td>0.0</td>\n      <td>0.0</td>\n      <td>0.0</td>\n      <td>1974.0</td>\n      <td>174.0</td>\n      <td>1974.0</td>\n      <td>1254.0</td>\n    </tr>\n    <tr>\n      <th>292029</th>\n      <td>100</td>\n      <td>2015-12-31 20:00:00</td>\n      <td>0.0</td>\n      <td>0.0</td>\n      <td>0.0</td>\n      <td>0.0</td>\n      <td>1977.0</td>\n      <td>177.0</td>\n      <td>1977.0</td>\n      <td>1257.0</td>\n    </tr>\n    <tr>\n      <th>292030</th>\n      <td>100</td>\n      <td>2015-12-31 23:00:00</td>\n      <td>0.0</td>\n      <td>0.0</td>\n      <td>0.0</td>\n      <td>0.0</td>\n      <td>1980.0</td>\n      <td>180.0</td>\n      <td>1980.0</td>\n      <td>1260.0</td>\n    </tr>\n    <tr>\n      <th>292031</th>\n      <td>100</td>\n      <td>2016-01-01 02:00:00</td>\n      <td>0.0</td>\n      <td>0.0</td>\n      <td>0.0</td>\n      <td>0.0</td>\n      <td>1983.0</td>\n      <td>183.0</td>\n      <td>1983.0</td>\n      <td>1263.0</td>\n    </tr>\n    <tr>\n      <th>292032</th>\n      <td>100</td>\n      <td>2016-01-01 05:00:00</td>\n      <td>0.0</td>\n      <td>0.0</td>\n      <td>0.0</td>\n      <td>0.0</td>\n      <td>1986.0</td>\n      <td>186.0</td>\n      <td>1986.0</td>\n      <td>1266.0</td>\n    </tr>\n  </tbody>\n</table>\n</div>",
            "text/plain": "        machineID            datetime  m_1  m_2  m_3  m_4    dm_1   dm_2  \\\n292028        100 2015-12-31 17:00:00  0.0  0.0  0.0  0.0  1974.0  174.0   \n292029        100 2015-12-31 20:00:00  0.0  0.0  0.0  0.0  1977.0  177.0   \n292030        100 2015-12-31 23:00:00  0.0  0.0  0.0  0.0  1980.0  180.0   \n292031        100 2016-01-01 02:00:00  0.0  0.0  0.0  0.0  1983.0  183.0   \n292032        100 2016-01-01 05:00:00  0.0  0.0  0.0  0.0  1986.0  186.0   \n\n          dm_3    dm_4  \n292028  1974.0  1254.0  \n292029  1977.0  1257.0  \n292030  1980.0  1260.0  \n292031  1983.0  1263.0  \n292032  1986.0  1266.0  "
          },
          "metadata": {}
        }
      ]
    },
    {
      "metadata": {
        "trusted": true
      },
      "cell_type": "code",
      "source": "df_maint_feat_roll.loc[df_maint_feat_roll['machineID'] == 2, :].head()",
      "execution_count": 33,
      "outputs": [
        {
          "output_type": "execute_result",
          "execution_count": 33,
          "data": {
            "text/html": "<div>\n<style scoped>\n    .dataframe tbody tr th:only-of-type {\n        vertical-align: middle;\n    }\n\n    .dataframe tbody tr th {\n        vertical-align: top;\n    }\n\n    .dataframe thead th {\n        text-align: right;\n    }\n</style>\n<table border=\"1\" class=\"dataframe\">\n  <thead>\n    <tr style=\"text-align: right;\">\n      <th></th>\n      <th>machineID</th>\n      <th>datetime</th>\n      <th>m_1</th>\n      <th>m_2</th>\n      <th>m_3</th>\n      <th>m_4</th>\n      <th>dm_1</th>\n      <th>dm_2</th>\n      <th>dm_3</th>\n      <th>dm_4</th>\n    </tr>\n  </thead>\n  <tbody>\n    <tr>\n      <th>2920</th>\n      <td>2</td>\n      <td>2015-01-01 07:00:00</td>\n      <td>1.0</td>\n      <td>1.0</td>\n      <td>1.0</td>\n      <td>1.0</td>\n      <td>0.0</td>\n      <td>0.0</td>\n      <td>0.0</td>\n      <td>0.0</td>\n    </tr>\n    <tr>\n      <th>2921</th>\n      <td>2</td>\n      <td>2015-01-01 10:00:00</td>\n      <td>0.0</td>\n      <td>0.0</td>\n      <td>0.0</td>\n      <td>0.0</td>\n      <td>3.0</td>\n      <td>3.0</td>\n      <td>3.0</td>\n      <td>3.0</td>\n    </tr>\n    <tr>\n      <th>2922</th>\n      <td>2</td>\n      <td>2015-01-01 13:00:00</td>\n      <td>0.0</td>\n      <td>0.0</td>\n      <td>0.0</td>\n      <td>0.0</td>\n      <td>6.0</td>\n      <td>6.0</td>\n      <td>6.0</td>\n      <td>6.0</td>\n    </tr>\n    <tr>\n      <th>2923</th>\n      <td>2</td>\n      <td>2015-01-01 16:00:00</td>\n      <td>0.0</td>\n      <td>0.0</td>\n      <td>0.0</td>\n      <td>0.0</td>\n      <td>9.0</td>\n      <td>9.0</td>\n      <td>9.0</td>\n      <td>9.0</td>\n    </tr>\n    <tr>\n      <th>2924</th>\n      <td>2</td>\n      <td>2015-01-01 19:00:00</td>\n      <td>0.0</td>\n      <td>0.0</td>\n      <td>0.0</td>\n      <td>0.0</td>\n      <td>12.0</td>\n      <td>12.0</td>\n      <td>12.0</td>\n      <td>12.0</td>\n    </tr>\n  </tbody>\n</table>\n</div>",
            "text/plain": "      machineID            datetime  m_1  m_2  m_3  m_4  dm_1  dm_2  dm_3  \\\n2920          2 2015-01-01 07:00:00  1.0  1.0  1.0  1.0   0.0   0.0   0.0   \n2921          2 2015-01-01 10:00:00  0.0  0.0  0.0  0.0   3.0   3.0   3.0   \n2922          2 2015-01-01 13:00:00  0.0  0.0  0.0  0.0   6.0   6.0   6.0   \n2923          2 2015-01-01 16:00:00  0.0  0.0  0.0  0.0   9.0   9.0   9.0   \n2924          2 2015-01-01 19:00:00  0.0  0.0  0.0  0.0  12.0  12.0  12.0   \n\n      dm_4  \n2920   0.0  \n2921   3.0  \n2922   6.0  \n2923   9.0  \n2924  12.0  "
          },
          "metadata": {}
        }
      ]
    },
    {
      "metadata": {
        "trusted": true
      },
      "cell_type": "code",
      "source": "df_fails_feat_roll = get_datetime_diffs(df_left, df_fails, catvar='failure', prefix='f', \n                                        window = 6, lagon = 'datetime', on = 3, show_example=False)\ndf_fails_feat_roll.tail()",
      "execution_count": 34,
      "outputs": [
        {
          "output_type": "execute_result",
          "execution_count": 34,
          "data": {
            "text/html": "<div>\n<style scoped>\n    .dataframe tbody tr th:only-of-type {\n        vertical-align: middle;\n    }\n\n    .dataframe tbody tr th {\n        vertical-align: top;\n    }\n\n    .dataframe thead th {\n        text-align: right;\n    }\n</style>\n<table border=\"1\" class=\"dataframe\">\n  <thead>\n    <tr style=\"text-align: right;\">\n      <th></th>\n      <th>machineID</th>\n      <th>datetime</th>\n      <th>f_1</th>\n      <th>f_2</th>\n      <th>f_3</th>\n      <th>f_4</th>\n      <th>df_1</th>\n      <th>df_2</th>\n      <th>df_3</th>\n      <th>df_4</th>\n    </tr>\n  </thead>\n  <tbody>\n    <tr>\n      <th>292028</th>\n      <td>100</td>\n      <td>2015-12-31 17:00:00</td>\n      <td>0.0</td>\n      <td>0.0</td>\n      <td>0.0</td>\n      <td>0.0</td>\n      <td>2694.0</td>\n      <td>534.0</td>\n      <td>8745.0</td>\n      <td>8745.0</td>\n    </tr>\n    <tr>\n      <th>292029</th>\n      <td>100</td>\n      <td>2015-12-31 20:00:00</td>\n      <td>0.0</td>\n      <td>0.0</td>\n      <td>0.0</td>\n      <td>0.0</td>\n      <td>2697.0</td>\n      <td>537.0</td>\n      <td>8748.0</td>\n      <td>8748.0</td>\n    </tr>\n    <tr>\n      <th>292030</th>\n      <td>100</td>\n      <td>2015-12-31 23:00:00</td>\n      <td>0.0</td>\n      <td>0.0</td>\n      <td>0.0</td>\n      <td>0.0</td>\n      <td>2700.0</td>\n      <td>540.0</td>\n      <td>8751.0</td>\n      <td>8751.0</td>\n    </tr>\n    <tr>\n      <th>292031</th>\n      <td>100</td>\n      <td>2016-01-01 02:00:00</td>\n      <td>0.0</td>\n      <td>0.0</td>\n      <td>0.0</td>\n      <td>0.0</td>\n      <td>2703.0</td>\n      <td>543.0</td>\n      <td>8754.0</td>\n      <td>8754.0</td>\n    </tr>\n    <tr>\n      <th>292032</th>\n      <td>100</td>\n      <td>2016-01-01 05:00:00</td>\n      <td>0.0</td>\n      <td>0.0</td>\n      <td>0.0</td>\n      <td>0.0</td>\n      <td>2706.0</td>\n      <td>546.0</td>\n      <td>8757.0</td>\n      <td>8757.0</td>\n    </tr>\n  </tbody>\n</table>\n</div>",
            "text/plain": "        machineID            datetime  f_1  f_2  f_3  f_4    df_1   df_2  \\\n292028        100 2015-12-31 17:00:00  0.0  0.0  0.0  0.0  2694.0  534.0   \n292029        100 2015-12-31 20:00:00  0.0  0.0  0.0  0.0  2697.0  537.0   \n292030        100 2015-12-31 23:00:00  0.0  0.0  0.0  0.0  2700.0  540.0   \n292031        100 2016-01-01 02:00:00  0.0  0.0  0.0  0.0  2703.0  543.0   \n292032        100 2016-01-01 05:00:00  0.0  0.0  0.0  0.0  2706.0  546.0   \n\n          df_3    df_4  \n292028  8745.0  8745.0  \n292029  8748.0  8748.0  \n292030  8751.0  8751.0  \n292031  8754.0  8754.0  \n292032  8757.0  8757.0  "
          },
          "metadata": {}
        }
      ]
    },
    {
      "metadata": {},
      "cell_type": "markdown",
      "source": "### Combine features in one dataset\n\nWe now combine all four datasets into one dataset called `df_all`.  First we check of course that all data frames have the same dimensions."
    },
    {
      "metadata": {
        "trusted": true
      },
      "cell_type": "code",
      "source": "assert(df_errors_feat_roll.shape[0] == df_fails_feat_roll.shape[0] == df_maint_feat_roll.shape[0] == df_telemetry_feat_roll.shape[0])\n",
      "execution_count": 35,
      "outputs": []
    },
    {
      "metadata": {
        "trusted": true
      },
      "cell_type": "code",
      "source": "df_all = pd.concat([df_telemetry_feat_roll,\n                    df_errors_feat_roll.drop(columns=['machineID', 'datetime']), \n                    df_maint_feat_roll.drop(columns=['machineID', 'datetime']), \n                    df_fails_feat_roll.drop(columns=['machineID', 'datetime'])], axis = 1, verify_integrity=True)\n\n# df_all = pd.merge(left=df_telemetry_feat_roll, right=df_all, on = ['machineID', 'datetime'], validate='one_to_one')\ndf_all = pd.merge(left=df_all, right=df_machines, how=\"left\", on='machineID', validate = 'many_to_one')",
      "execution_count": 36,
      "outputs": []
    },
    {
      "metadata": {
        "trusted": true
      },
      "cell_type": "code",
      "source": "del df_join, df_left",
      "execution_count": 37,
      "outputs": []
    },
    {
      "metadata": {
        "trusted": true
      },
      "cell_type": "code",
      "source": "del df_telemetry_feat_roll, df_errors_feat_roll, df_fails_feat_roll, df_maint_feat_roll",
      "execution_count": 38,
      "outputs": []
    },
    {
      "metadata": {},
      "cell_type": "markdown",
      "source": "### Lab"
    },
    {
      "metadata": {
        "hide_input": false,
        "solution2": "shown",
        "solution2_first": true
      },
      "cell_type": "markdown",
      "source": "<div class=\"alert alert-info\">\nThis may be a good place to stop and look at the correlation matrix for all the features we have in the data. We expect some obvious correlations, but let's see if we get any less obvious ones too. We will use `sns.heatmap` to visualize the correlation matrix.\n</div>"
    },
    {
      "metadata": {
        "trusted": false
      },
      "cell_type": "code",
      "source": "# write solution here",
      "execution_count": null,
      "outputs": []
    },
    {
      "metadata": {
        "trusted": false
      },
      "cell_type": "code",
      "source": "# %load ../solutions/correlation_matrix.py",
      "execution_count": null,
      "outputs": []
    },
    {
      "metadata": {
        "hide_input": false
      },
      "cell_type": "markdown",
      "source": "<div class=\"alert alert-info\">\nDescribe what you see in the correlation matrix. What would relatively high correlations between `m_1` through `m_4` suggest? What about the relatively high correlations between `m_1` through `m_4` and `f_1` through `f_4`?\n</div>"
    },
    {
      "metadata": {
        "hide_input": false
      },
      "cell_type": "markdown",
      "source": "<div class=\"alert alert-info\">\nWe can export the data for one of the machines to a CSV file. Export the subset of the data corresponding to the machine with ID 51 to CSV, then download the CSV file and open it in Excel to examine its content. Comment on what you see.\n</div>"
    },
    {
      "metadata": {
        "trusted": false
      },
      "cell_type": "code",
      "source": "# write solution here",
      "execution_count": null,
      "outputs": []
    },
    {
      "metadata": {
        "trusted": false
      },
      "cell_type": "code",
      "source": "# %cat ../solutions/export_csv.py",
      "execution_count": null,
      "outputs": []
    },
    {
      "metadata": {},
      "cell_type": "markdown",
      "source": "### End of lab"
    },
    {
      "metadata": {},
      "cell_type": "markdown",
      "source": "Let's look at all the features we've so far added to the data."
    },
    {
      "metadata": {
        "trusted": true
      },
      "cell_type": "code",
      "source": "df_all.info()",
      "execution_count": 39,
      "outputs": [
        {
          "output_type": "stream",
          "text": "<class 'pandas.core.frame.DataFrame'>\nInt64Index: 292033 entries, 0 to 292032\nData columns (total 44 columns):\ndatetime           292033 non-null datetime64[ns]\nmachineID          292033 non-null int64\nvolt_ma_3          292033 non-null float64\nrotate_ma_3        292033 non-null float64\npressure_ma_3      292033 non-null float64\nvibration_ma_3     292033 non-null float64\nvolt_sd_3          292033 non-null float64\nrotate_sd_3        292033 non-null float64\npressure_sd_3      292033 non-null float64\nvibration_sd_3     292033 non-null float64\nvolt_ma_12         292033 non-null float64\nrotate_ma_12       292033 non-null float64\npressure_ma_12     292033 non-null float64\nvibration_ma_12    292033 non-null float64\nvolt_sd_12         292033 non-null float64\nrotate_sd_12       292033 non-null float64\npressure_sd_12     292033 non-null float64\nvibration_sd_12    292033 non-null float64\ne_1                292033 non-null float64\ne_2                292033 non-null float64\ne_3                292033 non-null float64\ne_4                292033 non-null float64\nde_1               292033 non-null float64\nde_2               292033 non-null float64\nde_3               292033 non-null float64\nde_4               292033 non-null float64\nm_1                292033 non-null float64\nm_2                292033 non-null float64\nm_3                292033 non-null float64\nm_4                292033 non-null float64\ndm_1               292033 non-null float64\ndm_2               292033 non-null float64\ndm_3               292033 non-null float64\ndm_4               292033 non-null float64\nf_1                292033 non-null float64\nf_2                292033 non-null float64\nf_3                292033 non-null float64\nf_4                292033 non-null float64\ndf_1               292033 non-null float64\ndf_2               292033 non-null float64\ndf_3               292033 non-null float64\ndf_4               292033 non-null float64\nmodel              292033 non-null object\nage                292033 non-null int64\ndtypes: datetime64[ns](1), float64(40), int64(2), object(1)\nmemory usage: 100.3+ MB\n",
          "name": "stdout"
        }
      ]
    },
    {
      "metadata": {},
      "cell_type": "markdown",
      "source": "The last step in data prep is for us to create labels for the PdM model. You might wonder why we don't just use `f_1` through `f_4` as our labels, since they indicate when a machine failed. In fact we could, but PdM is not about predicting when a machine fails, but predicting when it's **about to fail**. So it's better to create labels indicate the state of the machine shortly prior to failure (how far back we want to go is something we need to determine)."
    },
    {
      "metadata": {},
      "cell_type": "markdown",
      "source": "### Lab"
    },
    {
      "metadata": {},
      "cell_type": "markdown",
      "source": "<div class=\"alert alert-info\">\nThis is a difficult coding exercise, so we've done part of the work for you already. So far we know that we each machine has four components, and we have a feature column for each, called `f_1`, `f_2`, `f_3`, and `f_4` which tell us when a component failed. Using these features, we want to create four labels called `y_1`, `y_2`, `y_3`, and `y_4` which tell us when a component is about to fail. To get more precise, initiate with `y_1 = 0` and for a given machine, let `y_1 = 1` whenever the date and time is anywhere between 3 hours and 2 days prior to a failure occuring. Similary compute `y_2`, `y_3`, and `y_4`. Places where you need to enter code are marked as `## YOUR CODE GOES HERE`. HINT: Use the `Timedelta` method for `datetime` column types.\n</div>"
    },
    {
      "metadata": {
        "trusted": true
      },
      "cell_type": "code",
      "source": "for i in range(1, 5): # iterate over the four components\n    # find all the times a component failed for a given machine\n    df_temp = df_all.loc[df_all['f_' + str(i)] == 1, ['machineID', 'datetime']]\n    label = 'y_' + str(i) # name of target column (one per component)\n    ## YOUR CODE GOES HERE (initialize y_i = 0)\n    for n in range(df_temp.shape[0]): # iterate over all the failure times\n        machineID, datetime = df_temp.iloc[n, :]\n        ## YOUR CODE GOES HERE (set y_i = 1 whenever datetime is between 2 days and 3 hours prior to failure)",
      "execution_count": 40,
      "outputs": []
    },
    {
      "metadata": {
        "trusted": true
      },
      "cell_type": "code",
      "source": "# %load ../solutions/compute_labels.py\nfor i in range(1, 5): # iterate over the four components\n    # find all the times a component failed for a given machine\n    df_temp = df_all.loc[df_all['f_' + str(i)] == 1, ['machineID', 'datetime']]\n    label = 'y_' + str(i) # name of target column (one per component)\n    df_all[label] = 0\n    for n in range(df_temp.shape[0]): # iterate over all the failure times\n        machineID, datetime = df_temp.iloc[n, :]\n        dt_end = datetime - pd.Timedelta('3 hours') # 3 hours prior to failure\n        dt_start = datetime - pd.Timedelta('2 days') # n days prior to failure\n        if n % 500 == 0: \n            print(\"a failure occured on machine {0} at {1}, so {2} is set to 1 between {4} and {3}\".format(machineID, datetime, label, dt_end, dt_start))\n        df_all.loc[(df_all['machineID'] == machineID) & \n                   (df_all['datetime'].between(dt_start, dt_end)), label] = 1",
      "execution_count": 44,
      "outputs": [
        {
          "output_type": "stream",
          "text": "a failure occured on machine 1 at 2015-01-01 08:00:00, so y_1 is set to 1 between 2014-12-30 08:00:00 and 2015-01-01 05:00:00\na failure occured on machine 1 at 2015-01-01 08:00:00, so y_2 is set to 1 between 2014-12-30 08:00:00 and 2015-01-01 05:00:00\na failure occured on machine 82 at 2015-12-09 08:00:00, so y_2 is set to 1 between 2015-12-07 08:00:00 and 2015-12-09 05:00:00\na failure occured on machine 1 at 2015-01-01 08:00:00, so y_3 is set to 1 between 2014-12-30 08:00:00 and 2015-01-01 05:00:00\na failure occured on machine 1 at 2015-01-01 08:00:00, so y_4 is set to 1 between 2014-12-30 08:00:00 and 2015-01-01 05:00:00\n",
          "name": "stdout"
        }
      ]
    },
    {
      "metadata": {},
      "cell_type": "markdown",
      "source": "<div class=\"alert alert-info\">\nTo run the above script change the magic `%cat` to `%load` which will load the content of the script into the cell. Then select the cell a second time and run it.\n</div>"
    },
    {
      "metadata": {},
      "cell_type": "markdown",
      "source": "### End of lab"
    },
    {
      "metadata": {
        "trusted": false
      },
      "cell_type": "code",
      "source": "import itertools\n\nct = pd.concat([pd.crosstab(df_all['y_' + str(i)], df_all['f_' + str(i)]) for i in range(1, 5)], axis=1)\nct.columns = ['f' + str(i) + '=' + str(j) for i, j in itertools.product(range(1, 5), range(2))]\nct",
      "execution_count": null,
      "outputs": []
    },
    {
      "metadata": {},
      "cell_type": "markdown",
      "source": "A word of caution here is in order. We should more carefully examine the distribution of the labels across machines. A brief glance at it for 10 randomly chosen machines shows that the distribution for `y_3` and `y_4` is not evenly distributed and that many machines contain only negative labels (because `f_3` and `f_4` are 0) while the machines with positive labels show a large numbers of failures. Problems like this can cause bias in our models, even when such differences can be legimtimately explained away by differences in the underlying components. As an example of the kind of problem we may run into, consider this: If in the modeling phase we choose to split the data into training and testing by machine ID (assign some machine IDs to training and the rest to testing), we will need to ensure that machines with both positive and negative labels are well represented in both datasets."
    },
    {
      "metadata": {
        "trusted": false
      },
      "cell_type": "code",
      "source": "import itertools\n\nct = pd.concat([pd.crosstab(df_all['machineID'], \n                            df_all['y_' + str(i)]) for i in range(1, 5)], axis=1)\nct.columns = ['y_' + str(i) + '=' + str(j) for i, j in itertools.product(range(1, 5), range(2))]\nct.loc[np.random.randint(1, 100, 10)]",
      "execution_count": null,
      "outputs": []
    },
    {
      "metadata": {},
      "cell_type": "markdown",
      "source": "## Modeling"
    },
    {
      "metadata": {},
      "cell_type": "markdown",
      "source": "See [here](https://docs.microsoft.com/en-us/azure/machine-learning/team-data-science-process/cortana-analytics-playbook-predictive-maintenance#modeling-techniques-for-predictive-maintenance) for more about modeling approaches for PdM."
    },
    {
      "metadata": {},
      "cell_type": "markdown",
      "source": "We constructed a binary label that can be used to predict the probability that the system will fail in the next $T$ time steps (48 hours, based on our specified choice). If explanability is also a goal here, then we should prefer models that can also help us explain the root cause of a failure.\n\nWe have two ways of splitting the data into training and testing:\n- we choose a cut-off time $T_c$ such that the training data is all the data before $T_c - w$ and the test data is all the data after $T_c$, where $w$ is a safe margin to make sure that as we avoid leakage into the training data when we label the data\n- we split training and test set based machine ID so that assets show up in one or the other split"
    },
    {
      "metadata": {
        "trusted": true
      },
      "cell_type": "code",
      "source": "df_all.columns",
      "execution_count": 41,
      "outputs": [
        {
          "output_type": "execute_result",
          "execution_count": 41,
          "data": {
            "text/plain": "Index(['datetime', 'machineID', 'volt_ma_3', 'rotate_ma_3', 'pressure_ma_3',\n       'vibration_ma_3', 'volt_sd_3', 'rotate_sd_3', 'pressure_sd_3',\n       'vibration_sd_3', 'volt_ma_12', 'rotate_ma_12', 'pressure_ma_12',\n       'vibration_ma_12', 'volt_sd_12', 'rotate_sd_12', 'pressure_sd_12',\n       'vibration_sd_12', 'e_1', 'e_2', 'e_3', 'e_4', 'de_1', 'de_2', 'de_3',\n       'de_4', 'm_1', 'm_2', 'm_3', 'm_4', 'dm_1', 'dm_2', 'dm_3', 'dm_4',\n       'f_1', 'f_2', 'f_3', 'f_4', 'df_1', 'df_2', 'df_3', 'df_4', 'model',\n       'age'],\n      dtype='object')"
          },
          "metadata": {}
        }
      ]
    },
    {
      "metadata": {},
      "cell_type": "markdown",
      "source": "Let's begin by splitting the data into training and test sets, based on a date cut-off."
    },
    {
      "metadata": {
        "trusted": true
      },
      "cell_type": "code",
      "source": "X_drop = ['datetime', 'machineID', 'f_1', 'f_2', 'f_3', 'f_4', 'y_1', 'y_2', 'y_3', 'y_4', 'model']\nY_keep = ['y_1', 'y_2', 'y_3', 'y_4']\n\nX_train = df_all.loc[df_all['datetime'] < '2015-10-01', ].drop(X_drop, axis=1)\ny_train = df_all.loc[df_all['datetime'] < '2015-10-01', Y_keep]\n\nX_test = df_all.loc[df_all['datetime'] > '2015-10-15', ].drop(X_drop, axis=1)\ny_test = df_all.loc[df_all['datetime'] > '2015-10-15', Y_keep]",
      "execution_count": 45,
      "outputs": []
    },
    {
      "metadata": {
        "trusted": true
      },
      "cell_type": "code",
      "source": "%store X_train ../data\n%store X_test ../data\n%store y_train ../data\n%store y_test ../data",
      "execution_count": 46,
      "outputs": [
        {
          "output_type": "stream",
          "text": "Stored 'X_train' (DataFrame)\nStored 'X_test' (DataFrame)\nStored 'y_train' (DataFrame)\nStored 'y_test' (DataFrame)\n",
          "name": "stdout"
        }
      ]
    },
    {
      "metadata": {},
      "cell_type": "markdown",
      "source": "### Lab"
    },
    {
      "metadata": {},
      "cell_type": "markdown",
      "source": "<div class=\"alert alert-info\">\nReport the number of failures that occur in the training and test data. Do you think the split is adequate or should we split based on a different cut-off? If so, do you recommend a higher or lower cut-off?\n</div>"
    },
    {
      "metadata": {
        "trusted": false
      },
      "cell_type": "code",
      "source": "# write solution here",
      "execution_count": null,
      "outputs": []
    },
    {
      "metadata": {
        "trusted": true
      },
      "cell_type": "code",
      "source": "# %cat ../solutions/train_test_failures.py",
      "execution_count": 48,
      "outputs": [
        {
          "output_type": "stream",
          "text": "     test  train\ny_1   578   2530\ny_2   990   3172\ny_3   408   1728\ny_4   629   2333\n",
          "name": "stdout"
        }
      ]
    },
    {
      "metadata": {},
      "cell_type": "markdown",
      "source": "### End of lab"
    },
    {
      "metadata": {},
      "cell_type": "markdown",
      "source": "We can now train our model. We have chosen a MLP (multi-linear perceptron) as our model, which is a basic neural network model."
    },
    {
      "metadata": {
        "trusted": true
      },
      "cell_type": "code",
      "source": "pipeline = Pipeline([('scaler', StandardScaler()), ('classifier', MLPClassifier(solver='lbfgs', alpha=1e-5, hidden_layer_sizes=(5, 10), random_state=1))])\npipeline.fit(X_train, y_train)\ny_pred = pipeline.predict(X_test)",
      "execution_count": 49,
      "outputs": []
    },
    {
      "metadata": {},
      "cell_type": "markdown",
      "source": "### Lab"
    },
    {
      "metadata": {},
      "cell_type": "markdown",
      "source": "<div class=\"alert alert-info\">\nPrint the confusion matrix and precision and recall for each of the four failure types. You can use the functions `confusion_matrix` and `classification report` to do the computation for you.  The rows in the matrix represent actual cases of non-failure and failure. The columns represent predicted cases. How is precision and recall calculated from the confusion matrix?\n</div>"
    },
    {
      "metadata": {
        "trusted": false
      },
      "cell_type": "code",
      "source": "# write solution here",
      "execution_count": null,
      "outputs": []
    },
    {
      "metadata": {
        "trusted": false
      },
      "cell_type": "code",
      "source": "# %cat ../solutions/confusion_matrix.py",
      "execution_count": null,
      "outputs": []
    },
    {
      "metadata": {},
      "cell_type": "markdown",
      "source": "### End of lab"
    },
    {
      "metadata": {},
      "cell_type": "markdown",
      "source": "Finally, let's create ROC plots for each type of failure."
    },
    {
      "metadata": {
        "trusted": false
      },
      "cell_type": "code",
      "source": "sns.set(rc={'figure.figsize':(18,5)})",
      "execution_count": null,
      "outputs": []
    },
    {
      "metadata": {
        "trusted": false
      },
      "cell_type": "code",
      "source": "from sklearn.metrics import auc, roc_curve\n\nplt.close('all')\nfig, axs = plt.subplots(ncols=4, sharex=True, sharey=True)\n\nfor y_idx in range(4): # choose one of the outcomes\n    fpr, tpr, thresholds = roc_curve(y_test.values[:, y_idx], y_pred[:, y_idx])\n    roc_auc = auc(fpr, tpr)\n    axs[y_idx].set_title('ROC of y_' + str(y_idx))\n    axs[y_idx].set_ylabel('TPR')\n    axs[y_idx].set_xlabel('FPR')\n    axs[y_idx].plot(fpr, tpr, 'b', label = 'AUC = {0:.2f}'.format(roc_auc))\n    axs[y_idx].legend(loc = 'lower right')\n    axs[y_idx].plot([0, 1], [0, 1],'r--')\n\nplt.show()",
      "execution_count": null,
      "outputs": []
    },
    {
      "metadata": {},
      "cell_type": "markdown",
      "source": "Let's store the training and test data so we can reload it in the next Notebook."
    },
    {
      "metadata": {},
      "cell_type": "markdown",
      "source": "# The end"
    },
    {
      "metadata": {},
      "cell_type": "markdown",
      "source": "Copyright (c) Microsoft Corporation. All rights reserved.\n\nLicensed under the MIT License."
    }
  ],
  "metadata": {
    "kernelspec": {
      "name": "python36",
      "display_name": "Python 3.6",
      "language": "python"
    },
    "language_info": {
      "mimetype": "text/x-python",
      "nbconvert_exporter": "python",
      "name": "python",
      "pygments_lexer": "ipython3",
      "version": "3.6.6",
      "file_extension": ".py",
      "codemirror_mode": {
        "version": 3,
        "name": "ipython"
      }
    },
    "toc": {
      "base_numbering": 1,
      "nav_menu": {},
      "number_sections": true,
      "sideBar": true,
      "skip_h1_title": false,
      "title_cell": "Table of Contents",
      "title_sidebar": "Contents",
      "toc_cell": true,
      "toc_position": {
        "height": "calc(100% - 180px)",
        "left": "10px",
        "top": "150px",
        "width": "239px"
      },
      "toc_section_display": true,
      "toc_window_display": false
    }
  },
  "nbformat": 4,
  "nbformat_minor": 2
}
